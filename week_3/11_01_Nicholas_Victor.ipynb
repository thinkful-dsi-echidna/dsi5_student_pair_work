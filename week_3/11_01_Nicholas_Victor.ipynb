{
  "nbformat": 4,
  "nbformat_minor": 0,
  "metadata": {
    "colab": {
      "name": "Morning AB Testing.ipynb",
      "provenance": []
    },
    "kernelspec": {
      "name": "python3",
      "display_name": "Python 3"
    }
  },
  "cells": [
    {
      "cell_type": "code",
      "metadata": {
        "id": "ZogBaJLJJao4",
        "colab_type": "code",
        "colab": {}
      },
      "source": [
        "import pandas as pd\n",
        "from scipy import stats\n",
        "import matplotlib.pyplot as plt\n",
        "import numpy as np"
      ],
      "execution_count": 0,
      "outputs": []
    },
    {
      "cell_type": "code",
      "metadata": {
        "id": "xOaMZw-TJ8h4",
        "colab_type": "code",
        "colab": {}
      },
      "source": [
        "abalone = pd.read_csv('https://tf-assets-prod.s3.amazonaws.com/tf-curric/data-science/abalone_csv.csv')"
      ],
      "execution_count": 0,
      "outputs": []
    },
    {
      "cell_type": "code",
      "metadata": {
        "id": "NM6YjETUKG7d",
        "colab_type": "code",
        "colab": {
          "base_uri": "https://localhost:8080/",
          "height": 194
        },
        "outputId": "560527d7-58ae-4d40-eae5-8353e55ad3d1"
      },
      "source": [
        "abalone.head()"
      ],
      "execution_count": 3,
      "outputs": [
        {
          "output_type": "execute_result",
          "data": {
            "text/html": [
              "<div>\n",
              "<style scoped>\n",
              "    .dataframe tbody tr th:only-of-type {\n",
              "        vertical-align: middle;\n",
              "    }\n",
              "\n",
              "    .dataframe tbody tr th {\n",
              "        vertical-align: top;\n",
              "    }\n",
              "\n",
              "    .dataframe thead th {\n",
              "        text-align: right;\n",
              "    }\n",
              "</style>\n",
              "<table border=\"1\" class=\"dataframe\">\n",
              "  <thead>\n",
              "    <tr style=\"text-align: right;\">\n",
              "      <th></th>\n",
              "      <th>Sex</th>\n",
              "      <th>Length</th>\n",
              "      <th>Diameter</th>\n",
              "      <th>Height</th>\n",
              "      <th>Whole_weight</th>\n",
              "      <th>Shucked_weight</th>\n",
              "      <th>Viscera_weight</th>\n",
              "      <th>Shell_weight</th>\n",
              "      <th>Class_number_of_rings</th>\n",
              "    </tr>\n",
              "  </thead>\n",
              "  <tbody>\n",
              "    <tr>\n",
              "      <th>0</th>\n",
              "      <td>M</td>\n",
              "      <td>0.455</td>\n",
              "      <td>0.365</td>\n",
              "      <td>0.095</td>\n",
              "      <td>0.5140</td>\n",
              "      <td>0.2245</td>\n",
              "      <td>0.1010</td>\n",
              "      <td>0.150</td>\n",
              "      <td>15</td>\n",
              "    </tr>\n",
              "    <tr>\n",
              "      <th>1</th>\n",
              "      <td>M</td>\n",
              "      <td>0.350</td>\n",
              "      <td>0.265</td>\n",
              "      <td>0.090</td>\n",
              "      <td>0.2255</td>\n",
              "      <td>0.0995</td>\n",
              "      <td>0.0485</td>\n",
              "      <td>0.070</td>\n",
              "      <td>7</td>\n",
              "    </tr>\n",
              "    <tr>\n",
              "      <th>2</th>\n",
              "      <td>F</td>\n",
              "      <td>0.530</td>\n",
              "      <td>0.420</td>\n",
              "      <td>0.135</td>\n",
              "      <td>0.6770</td>\n",
              "      <td>0.2565</td>\n",
              "      <td>0.1415</td>\n",
              "      <td>0.210</td>\n",
              "      <td>9</td>\n",
              "    </tr>\n",
              "    <tr>\n",
              "      <th>3</th>\n",
              "      <td>M</td>\n",
              "      <td>0.440</td>\n",
              "      <td>0.365</td>\n",
              "      <td>0.125</td>\n",
              "      <td>0.5160</td>\n",
              "      <td>0.2155</td>\n",
              "      <td>0.1140</td>\n",
              "      <td>0.155</td>\n",
              "      <td>10</td>\n",
              "    </tr>\n",
              "    <tr>\n",
              "      <th>4</th>\n",
              "      <td>I</td>\n",
              "      <td>0.330</td>\n",
              "      <td>0.255</td>\n",
              "      <td>0.080</td>\n",
              "      <td>0.2050</td>\n",
              "      <td>0.0895</td>\n",
              "      <td>0.0395</td>\n",
              "      <td>0.055</td>\n",
              "      <td>7</td>\n",
              "    </tr>\n",
              "  </tbody>\n",
              "</table>\n",
              "</div>"
            ],
            "text/plain": [
              "  Sex  Length  Diameter  ...  Viscera_weight  Shell_weight  Class_number_of_rings\n",
              "0   M   0.455     0.365  ...          0.1010         0.150                     15\n",
              "1   M   0.350     0.265  ...          0.0485         0.070                      7\n",
              "2   F   0.530     0.420  ...          0.1415         0.210                      9\n",
              "3   M   0.440     0.365  ...          0.1140         0.155                     10\n",
              "4   I   0.330     0.255  ...          0.0395         0.055                      7\n",
              "\n",
              "[5 rows x 9 columns]"
            ]
          },
          "metadata": {
            "tags": []
          },
          "execution_count": 3
        }
      ]
    },
    {
      "cell_type": "code",
      "metadata": {
        "id": "X8cE16H1KL46",
        "colab_type": "code",
        "colab": {}
      },
      "source": [
        "abalone_m = abalone[(abalone['Sex'] == 'M')]\n",
        "abalone_f = abalone[(abalone['Sex'] == 'F')]"
      ],
      "execution_count": 0,
      "outputs": []
    },
    {
      "cell_type": "code",
      "metadata": {
        "id": "ho6gAwfCLSGP",
        "colab_type": "code",
        "colab": {
          "base_uri": "https://localhost:8080/",
          "height": 586
        },
        "outputId": "61e3a746-47aa-4e59-c4e7-e89618bfe6a8"
      },
      "source": [
        "abalone_m.info()\n",
        "abalone_f.info()"
      ],
      "execution_count": 15,
      "outputs": [
        {
          "output_type": "stream",
          "text": [
            "<class 'pandas.core.frame.DataFrame'>\n",
            "Int64Index: 1528 entries, 0 to 4176\n",
            "Data columns (total 9 columns):\n",
            " #   Column                 Non-Null Count  Dtype  \n",
            "---  ------                 --------------  -----  \n",
            " 0   Sex                    1528 non-null   object \n",
            " 1   Length                 1528 non-null   float64\n",
            " 2   Diameter               1528 non-null   float64\n",
            " 3   Height                 1528 non-null   float64\n",
            " 4   Whole_weight           1528 non-null   float64\n",
            " 5   Shucked_weight         1528 non-null   float64\n",
            " 6   Viscera_weight         1528 non-null   float64\n",
            " 7   Shell_weight           1528 non-null   float64\n",
            " 8   Class_number_of_rings  1528 non-null   int64  \n",
            "dtypes: float64(7), int64(1), object(1)\n",
            "memory usage: 119.4+ KB\n",
            "<class 'pandas.core.frame.DataFrame'>\n",
            "Int64Index: 1307 entries, 2 to 4175\n",
            "Data columns (total 9 columns):\n",
            " #   Column                 Non-Null Count  Dtype  \n",
            "---  ------                 --------------  -----  \n",
            " 0   Sex                    1307 non-null   object \n",
            " 1   Length                 1307 non-null   float64\n",
            " 2   Diameter               1307 non-null   float64\n",
            " 3   Height                 1307 non-null   float64\n",
            " 4   Whole_weight           1307 non-null   float64\n",
            " 5   Shucked_weight         1307 non-null   float64\n",
            " 6   Viscera_weight         1307 non-null   float64\n",
            " 7   Shell_weight           1307 non-null   float64\n",
            " 8   Class_number_of_rings  1307 non-null   int64  \n",
            "dtypes: float64(7), int64(1), object(1)\n",
            "memory usage: 102.1+ KB\n"
          ],
          "name": "stdout"
        }
      ]
    },
    {
      "cell_type": "code",
      "metadata": {
        "id": "_Dk6TyAwKh2z",
        "colab_type": "code",
        "colab": {
          "base_uri": "https://localhost:8080/",
          "height": 265
        },
        "outputId": "a5494228-06f2-426e-b3e6-7e27eac432cb"
      },
      "source": [
        "plt.hist(abalone_m['Whole_weight'])\n",
        "plt.hist(abalone_f['Whole_weight'])\n",
        "plt.show()"
      ],
      "execution_count": 9,
      "outputs": [
        {
          "output_type": "display_data",
          "data": {
            "image/png": "[encoded data removed]",
            "text/plain": [
              "<Figure size 432x288 with 1 Axes>"
            ]
          },
          "metadata": {
            "tags": [],
            "needs_background": "light"
          }
        }
      ]
    },
    {
      "cell_type": "code",
      "metadata": {
        "id": "JfTjY6quMxy8",
        "colab_type": "code",
        "colab": {
          "base_uri": "https://localhost:8080/",
          "height": 52
        },
        "outputId": "c2ad46e9-905a-4b77-f339-8278377c7297"
      },
      "source": [
        "print(stats.describe(abalone_m.Whole_weight))\n",
        "print(stats.describe(abalone_f.Whole_weight))"
      ],
      "execution_count": 17,
      "outputs": [
        {
          "output_type": "stream",
          "text": [
            "DescribeResult(nobs=1528, minmax=(0.0155, 2.8255), mean=0.9914594240837696, variance=0.22144682906633475, skewness=0.40560877693983, kurtosis=0.3522080855157492)\n",
            "DescribeResult(nobs=1307, minmax=(0.08, 2.657), mean=1.0465321346595258, variance=0.18517212913502626, skewness=0.36807506367868875, kurtosis=0.059025885863292604)\n"
          ],
          "name": "stdout"
        }
      ]
    },
    {
      "cell_type": "markdown",
      "metadata": {
        "id": "lpF7Wa0ALsAO",
        "colab_type": "text"
      },
      "source": [
        "Yes, the variable meets the assumptions we need to perform t-test analysis:\n",
        "\n",
        "1. the test variable is continuous - weight is a continuous numerical variable\n",
        "\n",
        "2. independent observations - the weight of one abalone should not affect the weight of another abalone; there could be some correlation, such as abalone in a certain area having higher whole weights than abalone in a different region, but such differences should not cause a significant difference between male and female weights, as any difference from other factors would equally impact both populations (or such sex-discriminant effects would be part of why abalone whole weight is affected by sex)\n",
        "\n",
        "3. random sampling - we assume that this is true\n",
        "\n",
        "4. approximately normal distribution - visually and statistically (skewness of 0.4 for males, 0.37 for females, and kurtosis of 0.35 for males, 0.06 for females), both populations are reasonably normal\n",
        "\n",
        "5. reasonably large sample size - male sample is 1528, female sample is 1307; should easily be large enough\n",
        "\n",
        "6. approximately equal variance - variance of 0.22 for males, 0.19 for females"
      ]
    },
    {
      "cell_type": "markdown",
      "metadata": {
        "id": "CzN_eqIlOIL9",
        "colab_type": "text"
      },
      "source": [
        "Null hypothesis: there is no significant statistical difference between the whole weight of male and female abalone\n",
        "\n",
        "Alternative hypothesis: there is a significant statistical difference between the whole weight of male and female abalone"
      ]
    },
    {
      "cell_type": "code",
      "metadata": {
        "id": "H2Uz00s7OFeF",
        "colab_type": "code",
        "colab": {
          "base_uri": "https://localhost:8080/",
          "height": 35
        },
        "outputId": "416cfb7c-17bb-4c7a-d452-95dcabfeae38"
      },
      "source": [
        "stats.ttest_ind(abalone_m.Whole_weight, abalone_f.Whole_weight)"
      ],
      "execution_count": 18,
      "outputs": [
        {
          "output_type": "execute_result",
          "data": {
            "text/plain": [
              "Ttest_indResult(statistic=-3.230536346547456, pvalue=0.0012497207919589404)"
            ]
          },
          "metadata": {
            "tags": []
          },
          "execution_count": 18
        }
      ]
    },
    {
      "cell_type": "markdown",
      "metadata": {
        "id": "quxtf8kQPsIM",
        "colab_type": "text"
      },
      "source": [
        "The test statistic is -3.23 and the p-value is 0.001. Therefore, given the standard significance level of 0.05, we would conclude that there is a significant difference between the whole weight of male and female abalone with a p-value of 0.001, meaning that there is a 0.1% chance that we would see the observed difference in whole weight if the null hypothesis (there is no significant difference between male and female whole weight) were true."
      ]
    }
  ]
}